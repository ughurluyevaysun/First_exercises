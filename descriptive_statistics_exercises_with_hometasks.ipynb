{
 "cells": [
  {
   "cell_type": "markdown",
   "id": "7606c4c9",
   "metadata": {},
   "source": [
    "# Descriptive Statistics Exercises and Solutions\n",
    "This notebook includes basic exercises related to descriptive statistics, including mean, median, mode, variance, and standard deviation."
   ]
  },
  {
   "cell_type": "markdown",
   "id": "e595fff0",
   "metadata": {},
   "source": [
    "## Exercise 1: Calculate Measures of Central Tendency\n",
    "**Task:** Given the following data, calculate the mean, median, and mode:\n",
    "`data = [12, 15, 12, 18, 19, 12, 16, 14, 18, 19]`"
   ]
  },
  {
   "cell_type": "code",
   "execution_count": 3,
   "id": "0f5fc95a",
   "metadata": {},
   "outputs": [
    {
     "data": {
      "text/plain": [
       "(np.float64(15.5), np.float64(15.5), 12)"
      ]
     },
     "execution_count": 3,
     "metadata": {},
     "output_type": "execute_result"
    }
   ],
   "source": [
    "import statistics as stats\n",
    "import numpy as np\n",
    "import pandas as pd\n",
    "\n",
    "data = [12, 15, 12, 18, 19, 12, 16, 14, 18, 19]\n",
    "mean = np.mean(data)\n",
    "median = np.median(data)\n",
    "mode = stats.mode(data)\n",
    "mean, median, mode"
   ]
  },
  {
   "cell_type": "markdown",
   "id": "fc1c54ca",
   "metadata": {},
   "source": [
    "## Exercise 2: Calculate Measures of Dispersion\n",
    "**Task:** Using the same data, calculate the variance and standard deviation."
   ]
  },
  {
   "cell_type": "code",
   "execution_count": 2,
   "id": "26c18595",
   "metadata": {},
   "outputs": [
    {
     "data": {
      "text/plain": [
       "(np.float64(8.5), np.float64(2.9154759474226504))"
      ]
     },
     "execution_count": 2,
     "metadata": {},
     "output_type": "execute_result"
    }
   ],
   "source": [
    "variance = np.var(data, ddof=1)  # Sample variance\n",
    "std_dev = np.std(data, ddof=1)  # Sample standard deviation\n",
    "variance, std_dev"
   ]
  },
  {
   "cell_type": "markdown",
   "id": "6a7a86fb",
   "metadata": {},
   "source": [
    "## Exercise 3: Five Number Summary\n",
    "**Task:** Compute the minimum, Q1, median (Q2), Q3, and maximum."
   ]
  },
  {
   "cell_type": "code",
   "execution_count": 3,
   "id": "cfa889dc",
   "metadata": {},
   "outputs": [
    {
     "data": {
      "text/plain": [
       "(np.int64(12),\n",
       " np.float64(12.5),\n",
       " np.float64(15.5),\n",
       " np.float64(18.0),\n",
       " np.int64(19))"
      ]
     },
     "execution_count": 3,
     "metadata": {},
     "output_type": "execute_result"
    }
   ],
   "source": [
    "min_val = np.min(data)\n",
    "q1 = np.percentile(data, 25)\n",
    "q2 = np.percentile(data, 50)\n",
    "q3 = np.percentile(data, 75)\n",
    "max_val = np.max(data)\n",
    "\n",
    "min_val, q1, q2, q3, max_val"
   ]
  },
  {
   "cell_type": "markdown",
   "id": "66d075cb",
   "metadata": {},
   "source": [
    "## Exercise 4: Visualizing the Data\n",
    "**Task:** Create a boxplot to visualize the distribution of the data."
   ]
  },
  {
   "cell_type": "code",
   "execution_count": 5,
   "id": "f0c100c9",
   "metadata": {},
   "outputs": [
    {
     "data": {
      "image/png": "[encoded data removed]",
      "text/plain": [
       "<Figure size 640x480 with 1 Axes>"
      ]
     },
     "metadata": {},
     "output_type": "display_data"
    }
   ],
   "source": [
    "import matplotlib.pyplot as plt\n",
    "plt.boxplot(data, vert=False)\n",
    "plt.title('Boxplot of Data')\n",
    "plt.xlabel('Values')\n",
    "plt.grid(True)\n",
    "plt.show()"
   ]
  },
  {
   "cell_type": "markdown",
   "id": "206093ce",
   "metadata": {},
   "source": [
    "## 🏠 Homework Tasks for Descriptive Statistics\n",
    "Solve the following tasks independently. Try to interpret your results as well.\n"
   ]
  },
  {
   "cell_type": "markdown",
   "id": "446577d5",
   "metadata": {},
   "source": [
    "### 📌 Homework: Measures of Central Tendency\n",
    "#### Task 1:\n",
    "Given the dataset: `[21, 23, 19, 25, 30, 21, 20, 19, 25, 23]`, calculate the **mean**, **median**, and **mode**.\n",
    "\n",
    "#### Task 2:\n",
    "You surveyed 15 households and collected the following data for the number of children: `[2, 3, 1, 4, 2, 3, 3, 2, 1, 4, 5, 3, 2, 1, 4]`. Find the **mean**, **median**, and **mode**.\n",
    "\n",
    "#### Task 3:\n",
    "In a small company, the monthly salaries (in hundreds) are: `[35, 40, 45, 50, 40, 35, 100, 45, 40, 35]`. Compute the **mean**, **median**, and **mode** and comment on any skewness."
   ]
  },
  {
   "cell_type": "code",
   "execution_count": 29,
   "id": "dea1801b-5e3d-4792-a3bc-fd1f15487c62",
   "metadata": {},
   "outputs": [
    {
     "name": "stdout",
     "output_type": "stream",
     "text": [
      "The mean is 22.6,the median is 22.0 and the mode is 21 in dataset\n"
     ]
    }
   ],
   "source": [
    "\"\"\" Task1 \"\"\"\n",
    "\n",
    "l1=[21, 23, 19, 25, 30, 21, 20, 19, 25, 23]\n",
    "mean1=np.mean(l1)\n",
    "median1=np.median(l1)\n",
    "mode1=stats.mode(l1) #return the first one encountered\n",
    "\n",
    "print(\"The mean is {},the median is {} and the mode is {} in dataset\".format(mean1,median1,mode1))"
   ]
  },
  {
   "cell_type": "code",
   "execution_count": 30,
   "id": "5559caf1-be58-4b1e-8638-0e450b11488e",
   "metadata": {},
   "outputs": [
    {
     "name": "stdout",
     "output_type": "stream",
     "text": [
      "2.6666666666666665 3 2\n"
     ]
    }
   ],
   "source": [
    "\"\"\" Task2 \"\"\"\n",
    "l2=[2, 3, 1, 4, 2, 3, 3, 2, 1, 4, 5, 3, 2, 1, 4]\n",
    "mean2=stats.mean(l2)\n",
    "median2=stats.median(l2)\n",
    "mode2=stats.mode(l2)\n",
    "print(mean2,median2,mode2)"
   ]
  },
  {
   "cell_type": "code",
   "execution_count": 41,
   "id": "f2244e61-aae3-491c-9725-9282c22e8d1e",
   "metadata": {},
   "outputs": [
    {
     "name": "stdout",
     "output_type": "stream",
     "text": [
      "The mean is 46.5,the median is 40.0 and the mode is 35 in dataset\n",
      "True\n",
      "Skewness: 0.6234459002954071\n"
     ]
    },
    {
     "data": {
      "text/plain": [
       "<function matplotlib.pyplot.show(close=None, block=None)>"
      ]
     },
     "execution_count": 41,
     "metadata": {},
     "output_type": "execute_result"
    },
    {
     "data": {
      "image/png": "[encoded data removed]",
      "text/plain": [
       "<Figure size 640x480 with 1 Axes>"
      ]
     },
     "metadata": {},
     "output_type": "display_data"
    }
   ],
   "source": [
    " \"\"\" Task3 \"\"\"\n",
    "\n",
    "l3=[35, 40, 45, 50, 40, 35, 100, 45, 40, 35]\n",
    "mean3=np.mean(l3)\n",
    "median3=np.median(l3)\n",
    "mode3=stats.mode(l3)\n",
    "print(\"The mean is {},the median is {} and the mode is {} in dataset\".format(mean3,median3,mode3))\n",
    "\n",
    "print(mean3>median3>mode3)\n",
    "#Datada \"mean>median\" olduğu üçün mean-dən kiçik datalar daha çoxdur və mean-dən böyük dəyərlər paylanmanı sağa doğru uzadır. \n",
    "#Datada 'Positively skewness' mövcuddur. \n",
    "\n",
    "std_l3=np.std(l3)\n",
    "\n",
    "skewness=(mean3-mode3)/std_l3\n",
    "print('Skewness:', skewness)\n",
    "plt.boxplot(l3,vert=False )\n",
    "plt.show"
   ]
  },
  {
   "cell_type": "markdown",
   "id": "1c768912",
   "metadata": {},
   "source": [
    "### 📌 Homework: Measures of Dispersion\n",
    "#### Task 1:\n",
    "Use the dataset: `[5, 10, 10, 10, 15, 20, 25, 25, 30]` to calculate **variance** and **standard deviation**.\n",
    "\n",
    "#### Task 2:\n",
    "Income levels (in AZN) for 8 families are: `[500, 700, 800, 600, 1200, 1000, 950, 1100]`. Calculate **variance** and **standard deviation**.\n",
    "\n",
    "#### Task 3:\n",
    "Evaluate the spread of scores in a classroom: `[60, 65, 70, 75, 80, 85, 90, 95, 100]`. What are the **sample variance** and **standard deviation**?"
   ]
  },
  {
   "cell_type": "code",
   "execution_count": 42,
   "id": "c910b5fe-c145-46ac-aa20-35f066c5c707",
   "metadata": {},
   "outputs": [
    {
     "name": "stdout",
     "output_type": "stream",
     "text": [
      "Variance: 75.0\n",
      "Standart deviation: 8.660254037844387\n"
     ]
    }
   ],
   "source": [
    "\"\"\" Task-1 \"\"\"\n",
    "\n",
    "k1=[5, 10, 10, 10, 15, 20, 25, 25, 30]\n",
    "var1=np.var(k1, ddof=1)\n",
    "std_dev1=np.std(k1, ddof=1)\n",
    "print(\"Variance:\",var1)\n",
    "print(\"Standart deviation:\",std_dev1)"
   ]
  },
  {
   "cell_type": "code",
   "execution_count": 43,
   "id": "64ec57f4-1d6b-43ff-b065-1a546f71f749",
   "metadata": {},
   "outputs": [
    {
     "name": "stdout",
     "output_type": "stream",
     "text": [
      "Variance: 61026.78571428572\n",
      "Standart deviation: 247.03600084660883\n"
     ]
    }
   ],
   "source": [
    "\"\"\" Task-2 \"\"\"\n",
    "\n",
    "k2=[500, 700, 800, 600, 1200, 1000, 950, 1100]\n",
    "var2=stats.variance(k2)\n",
    "std_dev2=stats.stdev(k2)\n",
    "print(\"Variance:\",var2)\n",
    "print(\"Standart deviation:\",std_dev2)"
   ]
  },
  {
   "cell_type": "code",
   "execution_count": 51,
   "id": "35947cad-16ff-4ff6-b6ba-5f0223e50190",
   "metadata": {},
   "outputs": [
    {
     "name": "stdout",
     "output_type": "stream",
     "text": [
      "Variance: 187.5\n",
      "Standart deviation: 13.693063937629153\n",
      "80.0 80.0\n"
     ]
    },
    {
     "data": {
      "text/plain": [
       "<function matplotlib.pyplot.show(close=None, block=None)>"
      ]
     },
     "execution_count": 51,
     "metadata": {},
     "output_type": "execute_result"
    },
    {
     "data": {
      "image/png": "[encoded data removed]",
      "text/plain": [
       "<Figure size 640x480 with 1 Axes>"
      ]
     },
     "metadata": {},
     "output_type": "display_data"
    }
   ],
   "source": [
    "\"\"\" Task-3 \"\"\"\n",
    "\n",
    "k3=[60, 65, 70, 75, 80, 85, 90, 95, 100]\n",
    "var3=np.var(k3,ddof=1)\n",
    "std_dev3=np.std(k3,ddof=1)\n",
    "print(\"Variance:\",var3)\n",
    "print(\"Standart deviation:\",std_dev3)\n",
    "print(np.mean(k3), np.median(k3))\n",
    "\n",
    "plt.boxplot(k3, vert=False)\n",
    "plt.show"
   ]
  },
  {
   "cell_type": "markdown",
   "id": "9b505403",
   "metadata": {},
   "source": [
    "### 📌 Homework: Five Number Summary\n",
    "#### Task 1:\n",
    "Compute the **five-number summary** for `[100, 102, 105, 107, 110, 113, 115, 117, 120]`.\n",
    "\n",
    "#### Task 2:\n",
    "Given household expenses in a community: `[230, 250, 270, 290, 310, 330, 350, 370, 390, 410]`, calculate the **minimum**, **Q1**, **Q2**, **Q3**, and **maximum**.\n",
    "\n",
    "#### Task 3:\n",
    "Analyze the five-number summary for the number of working hours per week: `[35, 36, 38, 40, 42, 44, 46, 48, 50, 55]`."
   ]
  },
  {
   "cell_type": "code",
   "execution_count": 5,
   "id": "b081bd64-1084-4a47-adda-c883eeadfdf0",
   "metadata": {},
   "outputs": [
    {
     "name": "stdout",
     "output_type": "stream",
     "text": [
      "120 100 105.0 110.0 115.0 10.0\n"
     ]
    }
   ],
   "source": [
    "\"\"\" Task-1 \"\"\"\n",
    "\n",
    "f1=[100, 102, 105, 107, 110, 113, 115, 117, 120]\n",
    "\n",
    "f1_max=np.max(f1)\n",
    "f1_min=np.min(f1)\n",
    "f1_Q1=np.quantile(f1,0.25)\n",
    "f1_Q2=np.quantile(f1,0.50)\n",
    "f1_Q3=np.quantile(f1,0.75)\n",
    "f1_IQR=f1_Q3-f1_Q1\n",
    "\n",
    "print(f1_max,f1_min,f1_Q1,f1_Q2,f1_Q3,f1_IQR)"
   ]
  },
  {
   "cell_type": "code",
   "execution_count": 18,
   "id": "a8c8e7d8-7c68-4220-af4c-e64d5de04640",
   "metadata": {},
   "outputs": [
    {
     "name": "stdout",
     "output_type": "stream",
     "text": [
      "230\n",
      "275.0\n",
      "320.0\n",
      "365.0\n",
      "410\n"
     ]
    }
   ],
   "source": [
    "\"\"\" Task-2 \"\"\"\n",
    "\n",
    "f2 = [230, 250, 270, 290, 310, 330, 350, 370, 390, 410]\n",
    "f2_min = np.min(f2)\n",
    "f2_Q1 = np.percentile(f2,25)\n",
    "f2_Q2 = np.percentile(f2,50)\n",
    "f2_Q3 = np.percentile(f2,75)\n",
    "f2_max = np.max(f2)\n",
    "\n",
    "print(f2_min)\n",
    "print(f2_Q1)\n",
    "print(f2_Q2)\n",
    "print(f2_Q3)\n",
    "print(f2_max)"
   ]
  },
  {
   "cell_type": "code",
   "execution_count": 22,
   "id": "bdb3f17c-d499-4845-95ce-4b925413bbb2",
   "metadata": {},
   "outputs": [
    {
     "name": "stdout",
     "output_type": "stream",
     "text": [
      "Minimum:35\n",
      "Maximum:55\n",
      "Q1:38.5\n",
      "Q2:43.0\n",
      "Q3:47.5\n",
      "IQR:9.0\n"
     ]
    }
   ],
   "source": [
    "\"\"\" Task-3 \"\"\"\n",
    "\n",
    "f3 = [35, 36, 38, 40, 42, 44, 46, 48, 50, 55]\n",
    "\n",
    "f3_min = min(f3)\n",
    "f3_max = max(f3)\n",
    "q1 = np.percentile(f3,25)\n",
    "q2 = np.percentile(f3,50)\n",
    "q3 = np.percentile(f3,75)\n",
    "iqr = q3-q1\n",
    "\n",
    "\n",
    "print(\"Minimum:{}\".format(f3_min))\n",
    "print(\"Maximum:{}\".format(f3_max))\n",
    "print(\"Q1:{}\".format(q1))\n",
    "print(\"Q2:{}\".format(q2))\n",
    "print(\"Q3:{}\".format(q3))\n",
    "print(\"IQR:{}\".format(iqr))"
   ]
  }
 ],
 "metadata": {
  "kernelspec": {
   "display_name": "Python [conda env:base] *",
   "language": "python",
   "name": "conda-base-py"
  },
  "language_info": {
   "codemirror_mode": {
    "name": "ipython",
    "version": 3
   },
   "file_extension": ".py",
   "mimetype": "text/x-python",
   "name": "python",
   "nbconvert_exporter": "python",
   "pygments_lexer": "ipython3",
   "version": "3.13.5"
  }
 },
 "nbformat": 4,
 "nbformat_minor": 5
}

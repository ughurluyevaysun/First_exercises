{
 "cells": [
  {
   "cell_type": "markdown",
   "id": "b28411ad",
   "metadata": {},
   "source": [
    "# 📘 Descriptive Statistics: Key Measures and Exercises\n",
    "This notebook covers core descriptive statistics concepts with examples and hometasks. Topics include:\n",
    "- Mean\n",
    "- Median\n",
    "- Mode\n",
    "- Variance\n",
    "- Standard Deviation"
   ]
  },
  {
   "cell_type": "markdown",
   "id": "0be8a1d7",
   "metadata": {},
   "source": [
    "## 🔹 Mean (Average)\n",
    "The **mean** is the sum of all values divided by the number of values."
   ]
  },
  {
   "cell_type": "code",
   "execution_count": 3,
   "id": "4975ef8c",
   "metadata": {},
   "outputs": [
    {
     "data": {
      "text/plain": [
       "np.float64(14.0)"
      ]
     },
     "execution_count": 3,
     "metadata": {},
     "output_type": "execute_result"
    }
   ],
   "source": [
    "import numpy as np\n",
    "\n",
    "data = [10, 12, 14, 16, 18]\n",
    "mean_value = np.mean(data)\n",
    "mean_value"
   ]
  },
  {
   "cell_type": "markdown",
   "id": "1f1a74bb",
   "metadata": {},
   "source": [
    "### 🏠 Mean: Hometasks\n",
    "1. Calculate the mean for the dataset: `[55, 60, 65, 70, 75, 80]`\n",
    "2. A worker's weekly hours are: `[40, 42, 38, 41, 44]`. What is the mean weekly working time?\n",
    "3. Calculate the mean age of individuals: `[23, 29, 35, 41, 47, 53, 59]`"
   ]
  },
  {
   "cell_type": "code",
   "execution_count": 4,
   "id": "7007f09c-3554-4a26-97a0-f503da4b78c2",
   "metadata": {},
   "outputs": [
    {
     "data": {
      "text/plain": [
       "np.float64(67.5)"
      ]
     },
     "execution_count": 4,
     "metadata": {},
     "output_type": "execute_result"
    }
   ],
   "source": [
    "l1=[55, 60, 65, 70, 75, 80]\n",
    "l1_mean=np.mean(l1)\n",
    "l1_mean"
   ]
  },
  {
   "cell_type": "code",
   "execution_count": 6,
   "id": "002796ce-19a1-470a-81fc-da2e5cb58174",
   "metadata": {},
   "outputs": [
    {
     "data": {
      "text/plain": [
       "41"
      ]
     },
     "execution_count": 6,
     "metadata": {},
     "output_type": "execute_result"
    }
   ],
   "source": [
    "l2=[40, 42, 38, 41, 44]\n",
    "\n",
    "import statistics as ss\n",
    "ss.mean(l2)"
   ]
  },
  {
   "cell_type": "code",
   "execution_count": 10,
   "id": "972b1d87-1fb2-40fd-9f45-6aa0e6c1c467",
   "metadata": {},
   "outputs": [
    {
     "name": "stdout",
     "output_type": "stream",
     "text": [
      "41.0\n"
     ]
    },
    {
     "data": {
      "text/plain": [
       "np.float64(41.0)"
      ]
     },
     "execution_count": 10,
     "metadata": {},
     "output_type": "execute_result"
    }
   ],
   "source": [
    "l3=[23, 29, 35, 41, 47, 53, 59]\n",
    "l3_mean=sum(l3)/len(l3)\n",
    "print(l3_mean)\n",
    "\n",
    "l3_mean_2=np.mean(l3)\n",
    "l3_mean_2"
   ]
  },
  {
   "cell_type": "code",
   "execution_count": 22,
   "id": "3c7bd5e3-4443-4ba0-9a4f-040ea5f88605",
   "metadata": {},
   "outputs": [
    {
     "data": {
      "text/plain": [
       "np.float64(41.0)"
      ]
     },
     "execution_count": 22,
     "metadata": {},
     "output_type": "execute_result"
    }
   ],
   "source": [
    "import pandas as pd\n",
    "\n",
    "l4= pd.Series([23, 29, 35, 41, 47, 53, 59])\n",
    "l4_mean=l4.mean()\n",
    "l4_mean"
   ]
  },
  {
   "cell_type": "markdown",
   "id": "f2c98c44",
   "metadata": {},
   "source": [
    "## 🔹 Median\n",
    "The **median** is the middle value in an ordered dataset. If there is an even number of observations, the median is the average of the two middle values."
   ]
  },
  {
   "cell_type": "code",
   "execution_count": 11,
   "id": "86b665f5",
   "metadata": {},
   "outputs": [
    {
     "data": {
      "text/plain": [
       "np.float64(35.0)"
      ]
     },
     "execution_count": 11,
     "metadata": {},
     "output_type": "execute_result"
    }
   ],
   "source": [
    "data = [10, 20, 30, 40, 50, 60]\n",
    "median_value = np.median(data)\n",
    "median_value"
   ]
  },
  {
   "cell_type": "markdown",
   "id": "05f09db0",
   "metadata": {},
   "source": [
    "### 🏠 Median: Hometasks\n",
    "1. Find the median of: `[12, 15, 14, 11, 13]`\n",
    "2. Find the median income for: `[1200, 1500, 1300, 1100, 1600, 1700]`\n",
    "3. Given house prices: `[100000, 150000, 200000, 250000, 300000, 350000, 400000]`, calculate the median."
   ]
  },
  {
   "cell_type": "code",
   "execution_count": 16,
   "id": "8f75e7be-3ebb-4586-a2be-0281c532c985",
   "metadata": {},
   "outputs": [
    {
     "data": {
      "text/plain": [
       "np.float64(13.0)"
      ]
     },
     "execution_count": 16,
     "metadata": {},
     "output_type": "execute_result"
    }
   ],
   "source": [
    "m1=[12, 15, 14, 11, 13]\n",
    "m1_median=np.median(m1)\n",
    "m1_median"
   ]
  },
  {
   "cell_type": "code",
   "execution_count": 17,
   "id": "1f89d53a-81c4-4f8f-b3ca-51cca2d885e2",
   "metadata": {},
   "outputs": [
    {
     "data": {
      "text/plain": [
       "1400.0"
      ]
     },
     "execution_count": 17,
     "metadata": {},
     "output_type": "execute_result"
    }
   ],
   "source": [
    "m2=[1200, 1500, 1300, 1100, 1600, 1700]\n",
    "m2_median=ss.median(m2)\n",
    "m2_median"
   ]
  },
  {
   "cell_type": "code",
   "execution_count": 23,
   "id": "f8fb63b0-763c-4e37-a065-2536eab642d1",
   "metadata": {},
   "outputs": [
    {
     "data": {
      "text/plain": [
       "250000.0"
      ]
     },
     "execution_count": 23,
     "metadata": {},
     "output_type": "execute_result"
    }
   ],
   "source": [
    "m3=pd.Series([100000, 150000, 200000, 250000, 300000, 350000, 400000])\n",
    "m3.median()"
   ]
  },
  {
   "cell_type": "code",
   "execution_count": 25,
   "id": "7d60a628-03a3-46b3-8458-4a5815ae0aa2",
   "metadata": {},
   "outputs": [
    {
     "data": {
      "text/plain": [
       "250000"
      ]
     },
     "execution_count": 25,
     "metadata": {},
     "output_type": "execute_result"
    }
   ],
   "source": [
    "m4=[100000, 150000, 200000, 250000, 300000, 350000, 400000]\n",
    "sorted(m4)[(int((len(m4)+1)/2))-1]"
   ]
  },
  {
   "cell_type": "markdown",
   "id": "064c8b4c",
   "metadata": {},
   "source": [
    "## 🔹 Mode\n",
    "The **mode** is the value that appears most frequently in a dataset."
   ]
  },
  {
   "cell_type": "code",
   "execution_count": 26,
   "id": "ebe978ac",
   "metadata": {},
   "outputs": [
    {
     "data": {
      "text/plain": [
       "4"
      ]
     },
     "execution_count": 26,
     "metadata": {},
     "output_type": "execute_result"
    }
   ],
   "source": [
    "import statistics as stats\n",
    "data = [1, 2, 2, 3, 4, 4, 4, 5]\n",
    "mode_value = stats.mode(data)\n",
    "mode_value"
   ]
  },
  {
   "cell_type": "markdown",
   "id": "e3653314",
   "metadata": {},
   "source": [
    "### 🏠 Mode: Hometasks\n",
    "1. Find the mode of `[5, 6, 7, 8, 8, 9, 10]`\n",
    "2. A class's test scores: `[45, 55, 65, 65, 75, 85, 95, 65]`. What is the mode?\n",
    "3. Determine the mode in household sizes: `[2, 3, 3, 4, 4, 4, 5, 6]`"
   ]
  },
  {
   "cell_type": "code",
   "execution_count": 27,
   "id": "bae5f4f5-0295-4e61-9141-1f3acc0f1c7b",
   "metadata": {},
   "outputs": [
    {
     "data": {
      "text/plain": [
       "8"
      ]
     },
     "execution_count": 27,
     "metadata": {},
     "output_type": "execute_result"
    }
   ],
   "source": [
    "n1=[5, 6, 7, 8, 8, 9, 10]\n",
    "n1_mode=stats.mode(n1)\n",
    "n1_mode"
   ]
  },
  {
   "cell_type": "code",
   "execution_count": 33,
   "id": "0ecb7d5f-9fb2-477e-bb58-db0b8071428c",
   "metadata": {},
   "outputs": [
    {
     "data": {
      "text/plain": [
       "0    65\n",
       "dtype: int64"
      ]
     },
     "execution_count": 33,
     "metadata": {},
     "output_type": "execute_result"
    }
   ],
   "source": [
    "n2=pd.Series([45, 55, 65, 65, 75, 85, 95, 65])\n",
    "n2_mode=n2.mode()\n",
    "n2_mode"
   ]
  },
  {
   "cell_type": "code",
   "execution_count": 34,
   "id": "d0b87688-56ae-456a-ad80-07b35870d1fc",
   "metadata": {},
   "outputs": [
    {
     "name": "stdout",
     "output_type": "stream",
     "text": [
      "4\n"
     ]
    }
   ],
   "source": [
    "n3=[2, 3, 3, 4, 4, 4, 5, 6]\n",
    "print(stats.mode(n3))"
   ]
  },
  {
   "cell_type": "markdown",
   "id": "6dcdef06",
   "metadata": {},
   "source": [
    "## 🔹 Variance\n",
    "The **variance** measures the spread of the numbers in a dataset. A higher variance means more variability."
   ]
  },
  {
   "cell_type": "code",
   "execution_count": 53,
   "id": "3b657040",
   "metadata": {},
   "outputs": [
    {
     "data": {
      "text/plain": [
       "np.float64(62.5)"
      ]
     },
     "execution_count": 53,
     "metadata": {},
     "output_type": "execute_result"
    }
   ],
   "source": [
    "data = [5, 10, 15, 20, 25]\n",
    "variance_value = np.var(data, ddof=1)  # Sample variance\n",
    "variance_value"
   ]
  },
  {
   "cell_type": "markdown",
   "id": "797ee499",
   "metadata": {},
   "source": [
    "### 🏠 Variance: Hometasks\n",
    "1. Find the variance of `[2, 4, 6, 8, 10]`\n",
    "2. Calculate the variance for population: `[100, 150, 200, 250, 300]`\n",
    "3. Compute the sample variance for exam scores: `[78, 82, 85, 90, 94]`"
   ]
  },
  {
   "cell_type": "code",
   "execution_count": 57,
   "id": "93c000bc-6a5c-420c-a1b3-fc348e3a19b4",
   "metadata": {},
   "outputs": [
    {
     "name": "stdout",
     "output_type": "stream",
     "text": [
      "8.0\n"
     ]
    },
    {
     "data": {
      "text/plain": [
       "np.float64(10.0)"
      ]
     },
     "execution_count": 57,
     "metadata": {},
     "output_type": "execute_result"
    }
   ],
   "source": [
    "v1=[2, 4, 6, 8, 10]\n",
    "print(np.var(v1)) #forpopulation\n",
    "np.var(v1, ddof=1) #forsample"
   ]
  },
  {
   "cell_type": "code",
   "execution_count": 58,
   "id": "dce6f75d-267d-4f67-9ea0-8da2ff695757",
   "metadata": {},
   "outputs": [
    {
     "data": {
      "text/plain": [
       "6250.0"
      ]
     },
     "execution_count": 58,
     "metadata": {},
     "output_type": "execute_result"
    }
   ],
   "source": [
    "v2=pd.Series([100, 150, 200, 250, 300])\n",
    "v2.var()"
   ]
  },
  {
   "cell_type": "code",
   "execution_count": 94,
   "id": "860c88e7-9e01-4048-800f-a854c9d7594d",
   "metadata": {},
   "outputs": [
    {
     "data": {
      "text/plain": [
       "np.float64(40.2)"
      ]
     },
     "execution_count": 94,
     "metadata": {},
     "output_type": "execute_result"
    }
   ],
   "source": [
    "v3=[78, 82, 85, 90, 94]\n",
    "v3_mean=np.mean(v3)\n",
    "list=[(item-v3_mean)**2 for item in v3]\n",
    "list\n",
    "variance=sum(list)/(len(v3)-1)\n",
    "variance"
   ]
  },
  {
   "cell_type": "code",
   "execution_count": 96,
   "id": "899603d0-f5ce-4a64-ac81-63da347a6db9",
   "metadata": {},
   "outputs": [
    {
     "data": {
      "text/plain": [
       "np.float64(40.2)"
      ]
     },
     "execution_count": 96,
     "metadata": {},
     "output_type": "execute_result"
    }
   ],
   "source": [
    "np.var(v3,ddof=1)"
   ]
  },
  {
   "cell_type": "markdown",
   "id": "dcb9ac79",
   "metadata": {},
   "source": [
    "## 🔹 Standard Deviation\n",
    "**Standard deviation** is the square root of the variance. It also shows the spread of data."
   ]
  },
  {
   "cell_type": "code",
   "execution_count": 98,
   "id": "7bc81fb8",
   "metadata": {},
   "outputs": [
    {
     "data": {
      "text/plain": [
       "np.float64(7.905694150420948)"
      ]
     },
     "execution_count": 98,
     "metadata": {},
     "output_type": "execute_result"
    }
   ],
   "source": [
    "std_dev = np.std(data, ddof=1)\n",
    "std_dev"
   ]
  },
  {
   "cell_type": "markdown",
   "id": "15ea40e0",
   "metadata": {},
   "source": [
    "### 🏠 Standard Deviation: Hometasks\n",
    "1. Calculate the standard deviation of: `[10, 12, 14, 16, 18]`\n",
    "2. What is the standard deviation for population sizes: `[1000, 1050, 1100, 1150, 1200]`?\n",
    "3. Find the sample standard deviation for: `[30, 35, 40, 45, 50]`"
   ]
  },
  {
   "cell_type": "code",
   "execution_count": 103,
   "id": "d1f01515-0e41-417b-ac97-81ff3b9299a4",
   "metadata": {},
   "outputs": [
    {
     "data": {
      "text/plain": [
       "np.float64(3.1622776601683795)"
      ]
     },
     "execution_count": 103,
     "metadata": {},
     "output_type": "execute_result"
    }
   ],
   "source": [
    "d1=[10, 12, 14, 16, 18]\n",
    "std_dev_d1=np.std(d1,ddof=1)\n",
    "std_dev_d1"
   ]
  },
  {
   "cell_type": "code",
   "execution_count": 104,
   "id": "b0329e68-3386-4345-b468-2bbd0bb38537",
   "metadata": {},
   "outputs": [
    {
     "data": {
      "text/plain": [
       "79.05694150420949"
      ]
     },
     "execution_count": 104,
     "metadata": {},
     "output_type": "execute_result"
    }
   ],
   "source": [
    "d2=pd.Series([1000, 1050, 1100, 1150, 1200])\n",
    "d2.std()"
   ]
  },
  {
   "cell_type": "code",
   "execution_count": 105,
   "id": "4b187420-5aed-4b16-a5bf-f44955b2a60d",
   "metadata": {},
   "outputs": [
    {
     "data": {
      "text/plain": [
       "np.float64(79.05694150420949)"
      ]
     },
     "execution_count": 105,
     "metadata": {},
     "output_type": "execute_result"
    }
   ],
   "source": [
    "np.std([1000, 1050, 1100, 1150, 1200],ddof=1)"
   ]
  },
  {
   "cell_type": "code",
   "execution_count": 111,
   "id": "d492493e-26b2-4eba-bcc3-f88d37f6e59b",
   "metadata": {},
   "outputs": [
    {
     "data": {
      "text/plain": [
       "np.float64(7.905694150420948)"
      ]
     },
     "execution_count": 111,
     "metadata": {},
     "output_type": "execute_result"
    }
   ],
   "source": [
    "n3=[30, 35, 40, 45, 50]\n",
    "n3_mean=np.mean(n3)\n",
    "n3_mean\n",
    "list_std=[(val-n3_mean)**2 for val in n3]\n",
    "list_std\n",
    "std_dev_n3=np.sqrt(sum(list_std)/(len(n3)-1))\n",
    "std_dev_n3"
   ]
  },
  {
   "cell_type": "code",
   "execution_count": 112,
   "id": "0d4f9693-eb89-40a4-9eaa-633bd7ab02e9",
   "metadata": {},
   "outputs": [
    {
     "data": {
      "text/plain": [
       "np.float64(7.905694150420948)"
      ]
     },
     "execution_count": 112,
     "metadata": {},
     "output_type": "execute_result"
    }
   ],
   "source": [
    "np.std(n3,ddof=1)"
   ]
  },
  {
   "cell_type": "code",
   "execution_count": null,
   "id": "40781c37-c796-4ff3-a3f8-d849c78ed26b",
   "metadata": {},
   "outputs": [],
   "source": []
  }
 ],
 "metadata": {
  "kernelspec": {
   "display_name": "Python [conda env:base] *",
   "language": "python",
   "name": "conda-base-py"
  },
  "language_info": {
   "codemirror_mode": {
    "name": "ipython",
    "version": 3
   },
   "file_extension": ".py",
   "mimetype": "text/x-python",
   "name": "python",
   "nbconvert_exporter": "python",
   "pygments_lexer": "ipython3",
   "version": "3.13.5"
  }
 },
 "nbformat": 4,
 "nbformat_minor": 5
}
